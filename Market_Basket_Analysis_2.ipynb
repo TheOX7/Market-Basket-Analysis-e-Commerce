{
  "nbformat": 4,
  "nbformat_minor": 0,
  "metadata": {
    "colab": {
      "private_outputs": true,
      "provenance": []
    },
    "kernelspec": {
      "name": "python3",
      "display_name": "Python 3"
    },
    "language_info": {
      "name": "python"
    }
  },
  "cells": [
    {
      "cell_type": "markdown",
      "source": [
        "# Import Library"
      ],
      "metadata": {
        "id": "-r6lV8gO849b"
      }
    },
    {
      "cell_type": "code",
      "execution_count": null,
      "metadata": {
        "id": "Cal0Kqrhk2z6"
      },
      "outputs": [],
      "source": [
        "import pandas as pd\n",
        "import matplotlib.pyplot as plt\n",
        "import seaborn as sns\n",
        "\n",
        "from mlxtend.frequent_patterns import apriori\n",
        "from mlxtend.frequent_patterns import association_rules"
      ]
    },
    {
      "cell_type": "markdown",
      "source": [
        "#Persiapan Data#"
      ],
      "metadata": {
        "id": "yWaXgIYdJnJz"
      }
    },
    {
      "cell_type": "code",
      "source": [
        "data=pd.read_excel('data_transaksi_retail.xlsx')"
      ],
      "metadata": {
        "id": "GoPjRkiMmGcW"
      },
      "execution_count": null,
      "outputs": []
    },
    {
      "cell_type": "code",
      "source": [
        "data"
      ],
      "metadata": {
        "id": "LtwRZ97Jwzml"
      },
      "execution_count": null,
      "outputs": []
    },
    {
      "cell_type": "code",
      "source": [
        "data_basket = (data.groupby(['Kode Transaksi', 'Nama Barang'])['Quantity'].count()\\\n",
        "                                      .unstack().reset_index().fillna(0)\\\n",
        "                                      .set_index('Kode Transaksi'))"
      ],
      "metadata": {
        "id": "xnexJC6iLH2c"
      },
      "execution_count": null,
      "outputs": []
    },
    {
      "cell_type": "code",
      "source": [
        "data_basket"
      ],
      "metadata": {
        "id": "COQve-ssx7Xn"
      },
      "execution_count": null,
      "outputs": []
    },
    {
      "cell_type": "code",
      "source": [
        "# Melakukan proses encoding -> Mengubah data kebentuk angka, agar sistem atau komputer dapat memahami informasi dari dataset\n",
        "def encode_units(x):\n",
        "    if x <= 0:\n",
        "        return 0\n",
        "    if x >= 1:\n",
        "        return 1\n",
        "\n",
        "data_sets = data_basket.applymap(encode_units)\n",
        "data_sets"
      ],
      "metadata": {
        "id": "-Bug5xiWSJ8M"
      },
      "execution_count": null,
      "outputs": []
    },
    {
      "cell_type": "markdown",
      "source": [
        "#Memahami Metrics"
      ],
      "metadata": {
        "id": "EFlSNC0ASpRB"
      }
    },
    {
      "cell_type": "code",
      "source": [
        "frequent_itemsets = apriori(data_sets, min_support=0.01, use_colnames=True)\n",
        "frequent_itemsets"
      ],
      "metadata": {
        "id": "YnjVdfn5bu6L"
      },
      "execution_count": null,
      "outputs": []
    },
    {
      "cell_type": "code",
      "source": [
        "rules = association_rules(frequent_itemsets, metric=\"confidence\", min_threshold=0)\n",
        "rules"
      ],
      "metadata": {
        "id": "nYdB-otSb5OH"
      },
      "execution_count": null,
      "outputs": []
    },
    {
      "cell_type": "code",
      "source": [
        "frequent_itemsets['k'] = frequent_itemsets['itemsets'].apply(lambda x: len(x))"
      ],
      "metadata": {
        "id": "CntcYeWRb9fX"
      },
      "execution_count": null,
      "outputs": []
    },
    {
      "cell_type": "markdown",
      "source": [
        "## Metric Support"
      ],
      "metadata": {
        "id": "h3HQ37ZCcCOb"
      }
    },
    {
      "cell_type": "code",
      "source": [
        "frequent_itemsets.sort_values('support')"
      ],
      "metadata": {
        "id": "tU5cnZutdlyU"
      },
      "execution_count": null,
      "outputs": []
    },
    {
      "cell_type": "code",
      "source": [
        "rules.sort_values('support')"
      ],
      "metadata": {
        "id": "x_aMxIisdxJF"
      },
      "execution_count": null,
      "outputs": []
    },
    {
      "cell_type": "code",
      "source": [
        "sns.scatterplot('support','k', data=frequent_itemsets)"
      ],
      "metadata": {
        "id": "vUTD4WywcVdO"
      },
      "execution_count": null,
      "outputs": []
    },
    {
      "cell_type": "markdown",
      "source": [
        "semakin tinggi nilai support, nilai k semakin kecil"
      ],
      "metadata": {
        "id": "cWe9Gk5CcerW"
      }
    },
    {
      "cell_type": "code",
      "source": [
        "sns.distplot(frequent_itemsets['support'])"
      ],
      "metadata": {
        "id": "1u0LGvi3c7rC"
      },
      "execution_count": null,
      "outputs": []
    },
    {
      "cell_type": "code",
      "source": [
        "sns.distplot(rules['support'])"
      ],
      "metadata": {
        "id": "CQjvsggpdHFq"
      },
      "execution_count": null,
      "outputs": []
    },
    {
      "cell_type": "markdown",
      "source": [
        "semakin tinggi nilai support, variasi rules yang diberikan akan semakin kecil"
      ],
      "metadata": {
        "id": "0_J4BgQYdQo-"
      }
    },
    {
      "cell_type": "markdown",
      "source": [
        "## Metric Confidence"
      ],
      "metadata": {
        "id": "f3YF1MZbd4Oy"
      }
    },
    {
      "cell_type": "code",
      "source": [
        "rules.sort_values('confidence')"
      ],
      "metadata": {
        "id": "p0zjRJh4b0CF"
      },
      "execution_count": null,
      "outputs": []
    },
    {
      "cell_type": "code",
      "source": [
        "# confidence vs support\n",
        "sns.scatterplot('confidence','support', data=rules)"
      ],
      "metadata": {
        "id": "af7sBgABhA57"
      },
      "execution_count": null,
      "outputs": []
    },
    {
      "cell_type": "markdown",
      "source": [
        "## Metric Lift"
      ],
      "metadata": {
        "id": "euSLi7BZhm53"
      }
    },
    {
      "cell_type": "code",
      "source": [
        "rules.sort_values('lift')"
      ],
      "metadata": {
        "id": "dBjaNodfhomT"
      },
      "execution_count": null,
      "outputs": []
    },
    {
      "cell_type": "code",
      "source": [
        "# lift vs support\n",
        "sns.scatterplot('lift','support', data=rules)"
      ],
      "metadata": {
        "id": "ckE88L34bu8Q"
      },
      "execution_count": null,
      "outputs": []
    },
    {
      "cell_type": "code",
      "source": [
        "# confidence vs lift\n",
        "sns.scatterplot('confidence','lift', data=rules)"
      ],
      "metadata": {
        "id": "3l0hVKwvhzA1"
      },
      "execution_count": null,
      "outputs": []
    },
    {
      "cell_type": "markdown",
      "source": [
        "## Metric Leverage"
      ],
      "metadata": {
        "id": "W9MKlRoSrRPG"
      }
    },
    {
      "cell_type": "code",
      "source": [
        "rules.sort_values('leverage')"
      ],
      "metadata": {
        "id": "PM5yYr-vrTXn"
      },
      "execution_count": null,
      "outputs": []
    },
    {
      "cell_type": "code",
      "source": [
        "# lift vs leverage\n",
        "sns.scatterplot('lift','leverage', data=rules)"
      ],
      "metadata": {
        "id": "G3eDmiB5rcq8"
      },
      "execution_count": null,
      "outputs": []
    },
    {
      "cell_type": "markdown",
      "source": [
        "# Pemilihan Association Rules"
      ],
      "metadata": {
        "id": "12H4Evq3vb4n"
      }
    },
    {
      "cell_type": "markdown",
      "source": [
        "## Melihat karakteristik dari pemilihan nilai minimum support"
      ],
      "metadata": {
        "id": "Lm8hyWrFvevW"
      }
    },
    {
      "cell_type": "markdown",
      "source": [
        "Kita akan melihat seperti apa kumpulan frequent itemset yang dihasilkan untuk berbagai nilai minimum support"
      ],
      "metadata": {
        "id": "Ywkn5Fd8uxCB"
      }
    },
    {
      "cell_type": "code",
      "source": [
        "frequent_itemsets = apriori(data_sets, min_support=0.01, use_colnames=True)\n",
        "frequent_itemsets"
      ],
      "metadata": {
        "id": "paGnDRmyusb1"
      },
      "execution_count": null,
      "outputs": []
    },
    {
      "cell_type": "code",
      "source": [
        "frequent_itemsets = apriori(data_sets, min_support=0.05, use_colnames=True)\n",
        "frequent_itemsets"
      ],
      "metadata": {
        "id": "3lje5rRevRs5"
      },
      "execution_count": null,
      "outputs": []
    },
    {
      "cell_type": "code",
      "source": [
        "frequent_itemsets = apriori(data_sets, min_support=0.1, use_colnames=True)\n",
        "frequent_itemsets"
      ],
      "metadata": {
        "id": "0YhdmPpuvNmL"
      },
      "execution_count": null,
      "outputs": []
    },
    {
      "cell_type": "code",
      "source": [
        "# Jika nilai min_support terlalu kecil.\n",
        "# Ketika di compile akan memakan waktu yang lama, karena akan menampilkan frequent itemsets yang sangat banyak\n",
        "frequent_itemsets = apriori(data_sets, min_support=0.001, use_colnames=True)\n",
        "frequent_itemsets"
      ],
      "metadata": {
        "id": "pBJyRVNQ0jWS"
      },
      "execution_count": null,
      "outputs": []
    },
    {
      "cell_type": "code",
      "source": [
        "# Melihat pola\n",
        "df_support = pd.DataFrame()\n",
        "minsup_list = [0.01, 0.03, 0.05, 0.07, 0.1, 0.2]\n",
        "for minsup in minsup_list:\n",
        "  frequent_itemsets = apriori(data_sets, min_support=minsup, use_colnames=True)\n",
        "  frequent_itemsets['k'] = frequent_itemsets['itemsets'].apply(lambda x: len(x))\n",
        "  df_freq = frequent_itemsets.value_counts('k').reset_index().sort_values('k')\n",
        "  df_freq.columns = ['k','row']\n",
        "\n",
        "  dat = {}\n",
        "  dat['min_support'] = minsup\n",
        "  dat['row'] = frequent_itemsets.shape[0]\n",
        "  for idx, row in df_freq.iterrows():\n",
        "    k = row['k']\n",
        "    dat[str(k)+\"-itemset\"] = row['row']\n",
        "  df_support = df_support.append(dat, ignore_index=True)\n",
        "df_support = df_support.fillna(0).astype(int)\n",
        "df_support['min_support'] = minsup_list\n",
        "df_support"
      ],
      "metadata": {
        "id": "NapXBVqyvEZE"
      },
      "execution_count": null,
      "outputs": []
    },
    {
      "cell_type": "markdown",
      "source": [
        "Semakin kecil nilai minimum support, akan semakin banyak variasi frequent itemset yang dapat ditemukan.\n",
        "\n",
        "Berarti, akan semakin banyak pula association rules yang bisa didapatkan"
      ],
      "metadata": {
        "id": "qmoIwYbYyD56"
      }
    },
    {
      "cell_type": "markdown",
      "source": [
        "## Menentukan kriteria nilai support dan confidence"
      ],
      "metadata": {
        "id": "cBEzsmW9yYhC"
      }
    },
    {
      "cell_type": "code",
      "source": [
        "# kita gunakan min_support = 0.01 (ambil yang kecil, tapi output masih berhasil muncul)\n",
        "frequent_itemsets = apriori(data_sets, min_support=0.01, use_colnames=True)"
      ],
      "metadata": {
        "id": "ioswo1d_yVI-"
      },
      "execution_count": null,
      "outputs": []
    },
    {
      "cell_type": "code",
      "source": [
        "# kita gunakan minimum confidence = 0.5 (ambil yang kecil, tapi confidence masih dapat diterima)\n",
        "rules = association_rules(frequent_itemsets, metric=\"confidence\", min_threshold=0.5)"
      ],
      "metadata": {
        "id": "xOMWCurBykVm"
      },
      "execution_count": null,
      "outputs": []
    },
    {
      "cell_type": "code",
      "source": [
        "# filter rules dengan lift > 1\n",
        "rules = rules[rules['lift'] > 1]"
      ],
      "metadata": {
        "id": "qw5gqfNV7GWs"
      },
      "execution_count": null,
      "outputs": []
    },
    {
      "cell_type": "code",
      "source": [
        "rules"
      ],
      "metadata": {
        "id": "phB0BZ0YgXBY"
      },
      "execution_count": null,
      "outputs": []
    },
    {
      "cell_type": "code",
      "source": [
        "# cek scatterplot\n",
        "sns.scatterplot('support','confidence', data=rules)"
      ],
      "metadata": {
        "id": "nsDuHjwp6cI2"
      },
      "execution_count": null,
      "outputs": []
    },
    {
      "cell_type": "code",
      "source": [
        "# filter rules dengan support >= 0.1 dan confidence >= 0.6\n",
        "selected_rules = rules[(rules['support'] >= 0.1) & (rules['confidence'] >= 0.6)]"
      ],
      "metadata": {
        "id": "romdjV_x6v5e"
      },
      "execution_count": null,
      "outputs": []
    },
    {
      "cell_type": "code",
      "source": [
        "selected_rules.sort_values('confidence', ascending=False)"
      ],
      "metadata": {
        "id": "SwPzkAD4gb4m"
      },
      "execution_count": null,
      "outputs": []
    },
    {
      "cell_type": "code",
      "source": [
        "selected_rules.sort_values('support', ascending=False)"
      ],
      "metadata": {
        "id": "JBJTchO5hGMX"
      },
      "execution_count": null,
      "outputs": []
    },
    {
      "cell_type": "markdown",
      "source": [
        "Kita temukan bahwa Shampo Biasa dan Serum Vitamin sering menjadi consequents dengan confidence yang tinggi. Insight ini bisa kita manfaatkan untuk berbagai strategi promosi."
      ],
      "metadata": {
        "id": "u3--eF3Mgy3N"
      }
    },
    {
      "cell_type": "markdown",
      "source": [
        "## Analisis terhadap suatu produk tertentu"
      ],
      "metadata": {
        "id": "ttoLLkrshVLX"
      }
    },
    {
      "cell_type": "code",
      "source": [
        "frequent_itemsets = apriori(data_sets, min_support=0.01, use_colnames=True)\n",
        "rules = association_rules(frequent_itemsets, metric=\"confidence\", min_threshold=0.5)"
      ],
      "metadata": {
        "id": "QyeaO0i4imlM"
      },
      "execution_count": null,
      "outputs": []
    },
    {
      "cell_type": "markdown",
      "source": [
        "Misal kita ingin mencari suatu frequent items dan association rules yang berkaitan dengan produk Hair Dryer"
      ],
      "metadata": {
        "id": "Rc6cxVSsiZh-"
      }
    },
    {
      "cell_type": "code",
      "source": [
        "frequent_itemsets_hairdryer = frequent_itemsets[frequent_itemsets['itemsets'].apply(lambda x: 'Hair Dryer' in x)]\n",
        "frequent_itemsets_hairdryer.sort_values('support', ascending=False)"
      ],
      "metadata": {
        "id": "wL98cZJhkBSv"
      },
      "execution_count": null,
      "outputs": []
    },
    {
      "cell_type": "code",
      "source": [
        "# Hair Dryer sebagai antecedents\n",
        "rules_hairdryer_1 = rules[rules['antecedents'].apply(lambda x: 'Hair Dryer' in x)]\n",
        "rules_hairdryer_1.sort_values('support', ascending=False)"
      ],
      "metadata": {
        "id": "Nr_A7n1QjknH"
      },
      "execution_count": null,
      "outputs": []
    },
    {
      "cell_type": "code",
      "source": [
        "# Hair Dryer sebagai consequents\n",
        "rules_hairdryer_1 = rules[rules['consequents'].apply(lambda x: 'Hair Dryer' in x)]\n",
        "rules_hairdryer_1.sort_values('support', ascending=False)"
      ],
      "metadata": {
        "id": "5AEYtn-mlJ4M"
      },
      "execution_count": null,
      "outputs": []
    },
    {
      "cell_type": "markdown",
      "source": [
        "# Visualisasi Output"
      ],
      "metadata": {
        "id": "VBMxFqQGlZaT"
      }
    },
    {
      "cell_type": "code",
      "source": [
        "frequent_itemsets = apriori(data_sets, min_support=0.1, use_colnames=True)\n",
        "rules = association_rules(frequent_itemsets, metric=\"confidence\", min_threshold=0.6)\n",
        "rules = rules[rules['lift'] > 1]"
      ],
      "metadata": {
        "id": "AMhHZZYpmmYf"
      },
      "execution_count": null,
      "outputs": []
    },
    {
      "cell_type": "code",
      "source": [
        "from wordcloud import WordCloud\n",
        "plt.style.use('fivethirtyeight')\n",
        "plt.rcParams['figure.figsize'] = (15, 15)"
      ],
      "metadata": {
        "id": "oX2r6EBYmrz4"
      },
      "execution_count": null,
      "outputs": []
    },
    {
      "cell_type": "code",
      "source": [
        "str(frequent_itemsets['itemsets'])"
      ],
      "metadata": {
        "id": "xeCjmv2OoPsj"
      },
      "execution_count": null,
      "outputs": []
    },
    {
      "cell_type": "code",
      "source": [
        "wordcloud = WordCloud(background_color = 'white', width = 1200,  height = 1200, max_words = 121).generate(str(data['Nama Barang']))\n",
        "plt.imshow(wordcloud)\n",
        "plt.axis('off')\n",
        "plt.title('Most Popular Items',fontsize = 20)\n",
        "plt.show()"
      ],
      "metadata": {
        "id": "TdCWXKtymwQh"
      },
      "execution_count": null,
      "outputs": []
    },
    {
      "cell_type": "code",
      "source": [
        "rules"
      ],
      "metadata": {
        "id": "OuwFBpMKlzu2"
      },
      "execution_count": null,
      "outputs": []
    },
    {
      "cell_type": "code",
      "source": [
        "list(rules)"
      ],
      "metadata": {
        "id": "WZAnWa7VlbND"
      },
      "execution_count": null,
      "outputs": []
    }
  ]
}